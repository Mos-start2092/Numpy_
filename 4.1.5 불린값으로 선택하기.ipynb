{
 "cells": [
  {
   "cell_type": "code",
   "execution_count": 1,
   "metadata": {},
   "outputs": [],
   "source": [
    "#중복된 이름이 포함된 배열이 있다고 하자. 그리고 numpy.ranfom모듈에 있는 \n",
    "#randn함수를 사용해서 임의의 표준정규분포 데이터를 생성하자"
   ]
  },
  {
   "cell_type": "code",
   "execution_count": 5,
   "metadata": {},
   "outputs": [
    {
     "data": {
      "text/plain": [
       "array(['Bob', 'Joe', 'Will', 'Bob', 'Will', 'Joe', 'Joe'], dtype='<U4')"
      ]
     },
     "execution_count": 5,
     "metadata": {},
     "output_type": "execute_result"
    }
   ],
   "source": [
    "import numpy as np\n",
    "names=np.array(['Bob','Joe','Will','Bob','Will','Joe','Joe'])\n",
    "data=np.random.randn(7,4) #7*4 랜덤행렬 생성\n",
    "names"
   ]
  },
  {
   "cell_type": "code",
   "execution_count": 6,
   "metadata": {},
   "outputs": [
    {
     "data": {
      "text/plain": [
       "array([[-0.92146629,  1.03544315,  0.16093005, -1.06492135],\n",
       "       [-0.94731057, -1.42438717,  0.45182162, -0.78828992],\n",
       "       [ 0.46794321, -0.13591298, -1.26377478, -1.26129042],\n",
       "       [ 0.78120415, -0.46670429,  1.30260084,  1.09039892],\n",
       "       [-0.53315851, -0.46454631, -0.32266546,  0.71082127],\n",
       "       [ 0.54189486,  0.3148036 , -0.98747236,  1.1997909 ],\n",
       "       [-1.6161956 ,  0.01577978, -0.49882133,  0.9712764 ]])"
      ]
     },
     "execution_count": 6,
     "metadata": {},
     "output_type": "execute_result"
    }
   ],
   "source": [
    "data"
   ]
  },
  {
   "cell_type": "code",
   "execution_count": 7,
   "metadata": {},
   "outputs": [
    {
     "data": {
      "text/plain": [
       "array([ True, False, False,  True, False, False, False])"
      ]
     },
     "execution_count": 7,
     "metadata": {},
     "output_type": "execute_result"
    }
   ],
   "source": [
    "# 각각의 이름은 data배열의 각 로우에 대응한다고 가정하자. 만약 Bob과 같은 이름을 선택하려면 비교연산 사용(==)\n",
    "names=='Bob'\n"
   ]
  },
  {
   "cell_type": "code",
   "execution_count": 9,
   "metadata": {},
   "outputs": [
    {
     "data": {
      "text/plain": [
       "array([[-0.92146629,  1.03544315,  0.16093005, -1.06492135],\n",
       "       [ 0.78120415, -0.46670429,  1.30260084,  1.09039892]])"
      ]
     },
     "execution_count": 9,
     "metadata": {},
     "output_type": "execute_result"
    }
   ],
   "source": [
    "#불린 인덱싱은 색인으로 사용할 수도 있다.\n",
    "#불린배열은 반드시 색인하려는 축의 길이와 동일한 길이를 가져야한다.\n",
    "#불린 배열의 크기가 다르더라도 실패하지 않기 에 주의해야함\n",
    "data[names=='Bob']"
   ]
  },
  {
   "cell_type": "code",
   "execution_count": 11,
   "metadata": {},
   "outputs": [
    {
     "data": {
      "text/plain": [
       "array([[ 0.16093005, -1.06492135],\n",
       "       [ 1.30260084,  1.09039892]])"
      ]
     },
     "execution_count": 11,
     "metadata": {},
     "output_type": "execute_result"
    }
   ],
   "source": [
    "# 불린 인덱싱으로 row  &column선택\n",
    "data[names=='Bob',2:]\n"
   ]
  },
  {
   "cell_type": "code",
   "execution_count": 12,
   "metadata": {},
   "outputs": [
    {
     "data": {
      "text/plain": [
       "array([-1.06492135,  1.09039892])"
      ]
     },
     "execution_count": 12,
     "metadata": {},
     "output_type": "execute_result"
    }
   ],
   "source": [
    "data[names=='Bob',3]"
   ]
  },
  {
   "cell_type": "code",
   "execution_count": 13,
   "metadata": {},
   "outputs": [
    {
     "data": {
      "text/plain": [
       "array([False,  True,  True, False,  True,  True,  True])"
      ]
     },
     "execution_count": 13,
     "metadata": {},
     "output_type": "execute_result"
    }
   ],
   "source": [
    "# !,~를 사용해서 조건절을 부인할 수 있다,\n",
    "names !='Bob'"
   ]
  },
  {
   "cell_type": "code",
   "execution_count": 14,
   "metadata": {},
   "outputs": [
    {
     "data": {
      "text/plain": [
       "array([[-0.94731057, -1.42438717,  0.45182162, -0.78828992],\n",
       "       [ 0.46794321, -0.13591298, -1.26377478, -1.26129042],\n",
       "       [-0.53315851, -0.46454631, -0.32266546,  0.71082127],\n",
       "       [ 0.54189486,  0.3148036 , -0.98747236,  1.1997909 ],\n",
       "       [-1.6161956 ,  0.01577978, -0.49882133,  0.9712764 ]])"
      ]
     },
     "execution_count": 14,
     "metadata": {},
     "output_type": "execute_result"
    }
   ],
   "source": [
    "data[~(names=='Bob')]"
   ]
  },
  {
   "cell_type": "code",
   "execution_count": 15,
   "metadata": {},
   "outputs": [
    {
     "data": {
      "text/plain": [
       "array([[-0.94731057, -1.42438717,  0.45182162, -0.78828992],\n",
       "       [ 0.46794321, -0.13591298, -1.26377478, -1.26129042],\n",
       "       [-0.53315851, -0.46454631, -0.32266546,  0.71082127],\n",
       "       [ 0.54189486,  0.3148036 , -0.98747236,  1.1997909 ],\n",
       "       [-1.6161956 ,  0.01577978, -0.49882133,  0.9712764 ]])"
      ]
     },
     "execution_count": 15,
     "metadata": {},
     "output_type": "execute_result"
    }
   ],
   "source": [
    "# ~연산자는 일반적인 조건을 반대로 쓰고 싶을 때 유용\n",
    "cond=names=='Bob'\n",
    "data[~cond]"
   ]
  },
  {
   "cell_type": "code",
   "execution_count": 16,
   "metadata": {},
   "outputs": [
    {
     "data": {
      "text/plain": [
       "array([ True, False,  True,  True,  True, False, False])"
      ]
     },
     "execution_count": 16,
     "metadata": {},
     "output_type": "execute_result"
    }
   ],
   "source": [
    "# or&and기능을 통한 불린 조건\n",
    "mask=(names=='Bob')|(names=='Will')\n",
    "mask"
   ]
  },
  {
   "cell_type": "code",
   "execution_count": 17,
   "metadata": {},
   "outputs": [
    {
     "data": {
      "text/plain": [
       "array([[-0.92146629,  1.03544315,  0.16093005, -1.06492135],\n",
       "       [ 0.46794321, -0.13591298, -1.26377478, -1.26129042],\n",
       "       [ 0.78120415, -0.46670429,  1.30260084,  1.09039892],\n",
       "       [-0.53315851, -0.46454631, -0.32266546,  0.71082127]])"
      ]
     },
     "execution_count": 17,
     "metadata": {},
     "output_type": "execute_result"
    }
   ],
   "source": [
    "data[mask]"
   ]
  },
  {
   "cell_type": "markdown",
   "metadata": {},
   "source": [
    "### 불린 인덱싱을 활용한 값 대입 !!!!!!!!!"
   ]
  },
  {
   "cell_type": "code",
   "execution_count": 19,
   "metadata": {},
   "outputs": [
    {
     "data": {
      "text/plain": [
       "array([[0.        , 1.03544315, 0.16093005, 0.        ],\n",
       "       [0.        , 0.        , 0.45182162, 0.        ],\n",
       "       [0.46794321, 0.        , 0.        , 0.        ],\n",
       "       [0.78120415, 0.        , 1.30260084, 1.09039892],\n",
       "       [0.        , 0.        , 0.        , 0.71082127],\n",
       "       [0.54189486, 0.3148036 , 0.        , 1.1997909 ],\n",
       "       [0.        , 0.01577978, 0.        , 0.9712764 ]])"
      ]
     },
     "execution_count": 19,
     "metadata": {},
     "output_type": "execute_result"
    }
   ],
   "source": [
    "#0보다 작은 수를 0으로 대체\n",
    "data[data<0]=0\n",
    "data"
   ]
  },
  {
   "cell_type": "code",
   "execution_count": 20,
   "metadata": {},
   "outputs": [
    {
     "data": {
      "text/plain": [
       "array([[7.        , 7.        , 7.        , 7.        ],\n",
       "       [0.        , 0.        , 0.45182162, 0.        ],\n",
       "       [7.        , 7.        , 7.        , 7.        ],\n",
       "       [7.        , 7.        , 7.        , 7.        ],\n",
       "       [7.        , 7.        , 7.        , 7.        ],\n",
       "       [0.54189486, 0.3148036 , 0.        , 1.1997909 ],\n",
       "       [0.        , 0.01577978, 0.        , 0.9712764 ]])"
      ]
     },
     "execution_count": 20,
     "metadata": {},
     "output_type": "execute_result"
    }
   ],
   "source": [
    "data[names != 'Joe']=7\n",
    "data"
   ]
  },
  {
   "cell_type": "code",
   "execution_count": null,
   "metadata": {},
   "outputs": [],
   "source": []
  }
 ],
 "metadata": {
  "kernelspec": {
   "display_name": "Python 3",
   "language": "python",
   "name": "python3"
  },
  "language_info": {
   "codemirror_mode": {
    "name": "ipython",
    "version": 3
   },
   "file_extension": ".py",
   "mimetype": "text/x-python",
   "name": "python",
   "nbconvert_exporter": "python",
   "pygments_lexer": "ipython3",
   "version": "3.8.5"
  }
 },
 "nbformat": 4,
 "nbformat_minor": 4
}
